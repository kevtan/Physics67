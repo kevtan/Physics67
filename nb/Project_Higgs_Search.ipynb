{
 "cells": [
  {
   "cell_type": "code",
   "execution_count": null,
   "id": "4420be79",
   "metadata": {},
   "outputs": [],
   "source": [
    "import os\n",
    "%matplotlib inline\n",
    "import matplotlib.pyplot as plt\n",
    "import numpy as np\n",
    "import scipy.stats as sps\n",
    "import scipy.optimize as optimize"
   ]
  },
  {
   "cell_type": "markdown",
   "id": "61de816d",
   "metadata": {},
   "source": [
    "# Searching for the Higgs boson\n",
    "\n",
    "Recall that in weeks 7 of this course we searched for dark matter in a simplified data set.\n",
    "\n",
    "This week we are going to seach for the Higgs Boson.  In spirit this is similar to the dark matter search,\n",
    "but there are going to be a few differences.\n",
    "\n",
    "1. The detectors are quite different.  The detectors at CERN that were used to discover the Higgs particle are massive, basically the size of a 6 story building (about 150 long and 75 feet tall).  The detectors capture information from many particles that are produced when two protons collide at very nearly the speed of light.  Complicated data analysis algorithms then filter that data to find events that might have contained a Higgs particle.  The last step of the analysis is to combined together the particles that were flagged as possibly resulting from the Higgs particle's decay, as seeing if they are consistent with the mass of the Higgs particle.\n",
    "\n",
    "2. In the dark matter search in week 7, we used the log(s2) (i.e., the log of the electron charge signal) to distinguish signal from background.  For the Higgs search we as going to be using using the mass computed from combined different sets of particles collected in the detector.  For background events that mass will be randomly distributed, and we will model it as a linear function.  For signal events that mass will be centered of the mass of the Higgs particle ( $m_{H} = 125.1 \\frac{\\rm GeV}{c^2}$ ).   This means that in the Higgs search, we will be cutting on both sides of the signal.   I.e., the signal events are $ | m - m_{H} | < w $, where $w$ is the width of the cut window.\n",
    "\n",
    "3. In this search, we have much more data, even at the last step of the data analysis.  Both the rate of signal events and background events is much higher that it was for the dark matter search.\n",
    "\n",
    "\n",
    "You can try two different ways of doing the search.\n",
    "\n",
    "1. \"Cut and count\".  Basically you define a signal region and background region and show that there are more events in the signal region that in the background region.  In our case, since the background is not constant, it make sense to pick two background regions, one on either side of the signal, and to average them.\n",
    "\n",
    "<img src=\"figures/higgs_cut_and_count_2.png\" width=\"400\"/>\n",
    "\n",
    "\n",
    "2. \"Fitting\".  In this case you make signal and background models and use a fit optimizer to extract the size of the signal.\n",
    "\n",
    "<img src=\"figures/Higgs_Mass_fit.png\" width=\"400\"/>\n",
    "\n",
    "\n",
    "For comparison, here is a figure from the Higgs discover paper:\n",
    "\n",
    "<img src=\"figures/2012Higgsplot.png\" width=\"400\"/>\n"
   ]
  },
  {
   "cell_type": "markdown",
   "id": "568c46d3",
   "metadata": {},
   "source": [
    "Some goals for this project could include:\n",
    "\n",
    "1. Optimize the width of the cut window\n",
    "\n",
    "2. Estimate the significance you might expect as a function of time using the \"cut and count\" analysis\n",
    "\n",
    "3. Apply the \"cut and count\" analysis to the real data.\n",
    "\n",
    "4. Apply the \"fitting\" analysis to the real data, and compare the results with the \"cut and count\" analysis."
   ]
  },
  {
   "cell_type": "markdown",
   "id": "a35a1e1e",
   "metadata": {},
   "source": [
    "# Some useful stuff\n",
    "\n",
    "First make our lives easy by using the true values for the Higgs particle mass and the width of the mass peak.\n",
    "\n",
    "Then we will suppose that we are going to be histograming Higgs mass data in units of $1 {\\rm GeV}{c^2}$, as was done in the plots above.  And we will look at all the data between 90 and 160 ${\\rm GeV}{c^2}$"
   ]
  },
  {
   "cell_type": "code",
   "execution_count": null,
   "id": "4627b637",
   "metadata": {},
   "outputs": [],
   "source": [
    "Higgs_Mass = 125.1  # In Units of MeV / c**2\n",
    "Higgs_Width = 4.2   # In Units of MeV / c**2\n",
    "\n",
    "mass_grid = np.linspace(90., 160., 71)"
   ]
  },
  {
   "cell_type": "markdown",
   "id": "e7349a3e",
   "metadata": {},
   "source": [
    "# Some useful functions for cut and counting\n",
    "\n",
    "You can use these three functions to:\n",
    "\n",
    "1. `passed_cuts`: tells how many signal and background events from the idealized data pass your cuts if you use a cut window of a particular width, using models for how much signal and background we expect.   \n",
    "\n",
    "2. `extract_sig_from_data`: tells you many events are in your signal region on the \"real\" data.  Since it is real data, you don't know if they are signal or background.\n",
    "\n",
    "3. `extract_bkg_from_data`: tells you many events are in your background region on the \"real\" data.  "
   ]
  },
  {
   "cell_type": "code",
   "execution_count": null,
   "id": "7fd03b26",
   "metadata": {},
   "outputs": [],
   "source": [
    "def passed_cuts(cut_width, masses, model_sig, model_bkg):\n",
    "    mask = np.abs(masses - 125) < cut_width\n",
    "    n_sig = np.sum(model_sig[mask])\n",
    "    n_bkg = np.sum(model_bkg[mask])\n",
    "    return n_sig, n_bkg\n",
    "\n",
    "def extract_sig_from_data(cut_width, masses, nevts):\n",
    "    mask = np.abs(masses - 125) < cut_width\n",
    "    return np.sum(nevts[mask])\n",
    "\n",
    "def estimate_bkg_from_data(cut_width, masses, nevts):\n",
    "    mask_bkg_lo = np.abs(masses-105) < cut_width\n",
    "    mask_bkg_hi = np.abs(masses-145) < cut_width\n",
    "    mask_bkg = np.bitwise_or(mask_bkg_lo, mask_bkg_hi)\n",
    "    bkg_estimate = 0.5 * np.sum(nevts[mask_bkg])\n",
    "    return (bkg_estimate, np.sqrt(bkg_estimate))"
   ]
  },
  {
   "cell_type": "markdown",
   "id": "5e1b508d",
   "metadata": {},
   "source": [
    "# Some useful functions optimize data and setting expectations\n",
    "\n",
    "You can use these three functions to:\n",
    "\n",
    "1. `plot_nexp_passed_cuts`: makes a plot of how many signal and background events from the idealized data pass your cuts if you as a function of the cut width.\n",
    "\n",
    "2. `find_sig2noise`: makes of plot of the signal to noise, i.e., the number of signal events divided by the uncertainty in the background, as this is the key quantity for understanding the significance of the signal.\n",
    "\n",
    "3. `sig2noise_v_time`: shows you how the signal to noise will increase with time, assuming you keep taking data."
   ]
  },
  {
   "cell_type": "code",
   "execution_count": null,
   "id": "92f80e7b",
   "metadata": {},
   "outputs": [],
   "source": [
    "def plot_nexp_passed_cuts(masses, model_sig, model_bkg):\n",
    "    sig_cts = np.zeros(26)\n",
    "    bkg_cts = np.zeros(26)\n",
    "    widths = np.linspace(0, 25, 26)\n",
    "    for i, width in enumerate(widths):\n",
    "        sig_cts[i], bkg_cts[i] = passed_cuts(width, masses, model_sig, model_bkg)\n",
    "    _ = plt.plot(widths, sig_cts, label=\"Signal\")\n",
    "    _ = plt.plot(widths, bkg_cts, label=\"Background\")\n",
    "    _ = plt.yscale('log')\n",
    "    _ = plt.xlabel(r\"Cut Width [GeV / $c^2$]\")\n",
    "    _ = plt.ylabel(r\"Events [per GeV / $c^2$ / month]\")\n",
    "    \n",
    "def find_sig2noise(mass_grid, model_sig, model_bkg, plot=True):\n",
    "    sig_cts = np.zeros(26)\n",
    "    bkg_cts = np.zeros(26)\n",
    "    widths = np.linspace(0, 25, 26)\n",
    "    for i, width in enumerate(widths):\n",
    "        if i == 0:\n",
    "            continue\n",
    "        sig_cts[i], bkg_cts[i] = passed_cuts(width, mass_grid, model_sig, model_bkg)\n",
    "    sig2noise = np.zeros(26)\n",
    "    sig2noise[1:] = sig_cts[1:]/np.sqrt(bkg_cts[1:])\n",
    "    if plot:\n",
    "        _ = plt.plot(widths, sig_cts/np.sqrt(bkg_cts))\n",
    "        _ = plt.xlabel(r\"Cut Width [GeV / $c^2$]\")\n",
    "        _ = plt.ylabel(r\"$\\frac{n_{\\rm sig}}{\\sqrt{n_{\\rm bkg}}}$ for one month\")\n",
    "    return sig2noise\n",
    "\n",
    "def sig2noise_v_time(mass_grid, model_sig, model_bkg, plot=True):\n",
    "    max_s2n = np.zeros(24)\n",
    "    best_cut = np.zeros(24)\n",
    "    n_months_array = np.arange(24)\n",
    "    for n_months in n_months_array:\n",
    "        if n_months == 0:\n",
    "            continue\n",
    "        s2n = find_sig2noise(mass_grid, n_months*model_sig, n_months*model_bkg, plot=False)\n",
    "        max_s2n[n_months] = np.max(s2n)\n",
    "        best_cut[n_months] = np.argmax(s2n)\n",
    "    if plot:\n",
    "        _ = plt.scatter(n_months_array, max_s2n)\n",
    "        _ = plt.xlabel(r\"Time [months]\")\n",
    "        _ = plt.ylabel(r\"$\\frac{n_{\\rm sig}}{\\sqrt{n_{\\rm bkg}}}$ for N months\")\n",
    "\n",
    "    return max_s2n"
   ]
  },
  {
   "cell_type": "markdown",
   "id": "e5c79d33",
   "metadata": {},
   "source": [
    "# Some useful functions for fitting the data\n",
    "\n",
    "The important one here is `fitAndPlotResult`, which will find you data an plot the results.\n",
    "\n",
    "You need to provide it with:\n",
    "\n",
    "1. masses: the array of mass points\n",
    "\n",
    "2. nevs: the number of events observed a each mass\n",
    "\n",
    "3. ref_mass: the reference mass for the background model (use $125 \\frac{\\rm GeV}{c^2}$)\n",
    "\n",
    "4. init_pars: guesses for the initial parameters.\n",
    "\n",
    "The three parameters are: \n",
    "\n",
    "1. The total number of signal events.\n",
    "\n",
    "2. The number of background events in the bin at the reference mass.\n",
    "\n",
    "3. The slope of the background model, in events per bin."
   ]
  },
  {
   "cell_type": "code",
   "execution_count": null,
   "id": "b1b79b47",
   "metadata": {},
   "outputs": [],
   "source": [
    "from functools import partial\n",
    "\n",
    "def Gauss(x, nsig, mu, sigma):\n",
    "    return nsig*sps.norm(loc=mu, scale=sigma).pdf(x)\n",
    "\n",
    "def poly1(x, ref_mass, offset, slope):\n",
    "    return offset + (x-ref_mass)*slope\n",
    "\n",
    "def model_func(x, ref_mass, nsig, offset, slope):\n",
    "    return Gauss(x, nsig, Higgs_Mass, Higgs_Width) + poly1(x, ref_mass, offset, slope)\n",
    "\n",
    "def generic_chi2(params, data_vals, model, x, ref_mass):\n",
    "    model_vals = model(x, ref_mass, *params)\n",
    "    return np.sum(((data_vals - model_vals)**2)/data_vals)\n",
    "\n",
    "def cost_func(data_vals, model, x, ref_mass):\n",
    "    return partial(generic_chi2, data_vals=data_vals, model=model, x=x, ref_mass=ref_mass)\n",
    "\n",
    "def fitAndPlotResult(masses, nevts, ref_mass, init_pars):\n",
    "    our_cost_func = cost_func(nevts, model_func, masses, ref_mass=ref_mass)\n",
    "    result = optimize.minimize(our_cost_func, x0=np.array(init_pars))\n",
    "    fit_pars = result['x']\n",
    "    cov = result['hess_inv']\n",
    "    model_fit = model_func(masses, ref_mass, *fit_pars)\n",
    "    background_fit = poly1(masses, ref_mass, fit_pars[1], fit_pars[2])\n",
    "    print(\"Best Fit ---------\")\n",
    "    print(\"N Signal: %.1f [Events]\" % fit_pars[0])\n",
    "    print(r\"Higgs Peak: %.4f $[\\frac{\\rm GeV}{c^2}]$\" % Higgs_Mass)\n",
    "    print(r\"Higgs Width: %.4f $[\\frac{\\rm GeV}{c^2}]$\" % Higgs_Width)\n",
    "    print(r\"Background at 125 GeV: %.2f $[{\\rm Events} / \\frac{\\rm GeV}{c^2}]\" % fit_pars[1])\n",
    "    print(r\"Background slope: %.2f $[{\\rm Events} / \\frac{\\rm GeV}{c^2} / \\frac{\\rm GeV}{c^2}]$\" % fit_pars[2])\n",
    "    _ = plt.errorbar(masses, nevts, yerr=np.sqrt(nevts), fmt='.', label=\"data\")\n",
    "    _ = plt.plot(masses, background_fit, label=\"background model\")\n",
    "    _ = plt.plot(masses, model_fit, label=\"full model\")\n",
    "    _ = plt.xlabel(r\"mass $[\\frac{\\rm GeV}{c^2}]$\")\n",
    "    _ = plt.ylabel(r\"Events $[{\\rm per }\\frac{\\rm GeV}{c^2}]$\")\n",
    "    _ = plt.legend()\n",
    "    return (fit_pars[0], np.sqrt(cov[0,0]))"
   ]
  },
  {
   "cell_type": "markdown",
   "id": "0485e2c2",
   "metadata": {},
   "source": [
    "# Here are your models for the signal and background.\n",
    "\n",
    "Note that they are expressed in terms of events per month."
   ]
  },
  {
   "cell_type": "code",
   "execution_count": null,
   "id": "7e1d8738",
   "metadata": {},
   "outputs": [],
   "source": [
    "ref_mass = 130.\n",
    "nsig_per_month = 20.\n",
    "nbkg_per_mev_per_month = 40.\n",
    "bkg_slope_per_mev_per_month = -0.2\n",
    "model_bkg = poly1(mass_grid, ref_mass, nbkg_per_mev_per_month, bkg_slope_per_mev_per_month)\n",
    "model_sig = Gauss(mass_grid, nsig_per_month, Higgs_Mass, Higgs_Width)\n",
    "\n",
    "_ = plt.scatter(mass_grid, model_sig, label=\"Signal\", marker='.')\n",
    "_ = plt.scatter(mass_grid, model_bkg, label=\"Background\", marker='.')\n",
    "_ = plt.scatter(mass_grid, model_sig+model_bkg, label=\"Combined\", marker='.')\n",
    "_ = plt.xlabel(r\"Mass [GeV/$c^2$]\")\n",
    "_ = plt.ylabel(r\"Counts [per GeV/$c^2$ / month]\")\n",
    "_ = plt.legend()"
   ]
  },
  {
   "cell_type": "markdown",
   "id": "855cb5c5",
   "metadata": {},
   "source": [
    "# Here is your \"real\" data.\n",
    "\n",
    "Note that that is simulated for 24 months of data."
   ]
  },
  {
   "cell_type": "code",
   "execution_count": null,
   "id": "fbc66963",
   "metadata": {},
   "outputs": [],
   "source": [
    "data = np.loadtxt('../data/Higgs.txt')\n",
    "masses = data[:,0]\n",
    "nevts = data[:,1]\n",
    "errors = np.sqrt(nevts)\n",
    "_ = plt.errorbar(masses, nevts, yerr=errors, fmt='.')\n",
    "_ = plt.xlabel(r\"Mass [GeV/$c^2$]\")\n",
    "_ = plt.ylabel(r\"Counts [per GeV/$c^2$]\")"
   ]
  },
  {
   "cell_type": "code",
   "execution_count": null,
   "id": "0c75268c",
   "metadata": {},
   "outputs": [],
   "source": [
    "fitAndPlotResult(masses, nevts, ref_mass, [480, 1000, -5.])"
   ]
  },
  {
   "cell_type": "code",
   "execution_count": null,
   "id": "89864a3a",
   "metadata": {},
   "outputs": [],
   "source": [
    "data = np.loadtxt('../data/Higgs.txt')\n",
    "masses = data[:,0]\n",
    "nevts = data[:,1]\n",
    "errors = np.sqrt(nevts)\n",
    "_ = plt.errorbar(masses, nevts, yerr=errors, fmt='.')\n",
    "_ = plt.xlabel(r\"Mass [GeV/$c^2$]\")\n",
    "_ = plt.ylabel(r\"Counts [per GeV/$c^2$]\")"
   ]
  },
  {
   "cell_type": "code",
   "execution_count": null,
   "id": "a539c897",
   "metadata": {},
   "outputs": [],
   "source": []
  }
 ],
 "metadata": {
  "kernelspec": {
   "display_name": "Python 3",
   "language": "python",
   "name": "python3"
  },
  "language_info": {
   "codemirror_mode": {
    "name": "ipython",
    "version": 3
   },
   "file_extension": ".py",
   "mimetype": "text/x-python",
   "name": "python",
   "nbconvert_exporter": "python",
   "pygments_lexer": "ipython3",
   "version": "3.8.10"
  }
 },
 "nbformat": 4,
 "nbformat_minor": 5
}
