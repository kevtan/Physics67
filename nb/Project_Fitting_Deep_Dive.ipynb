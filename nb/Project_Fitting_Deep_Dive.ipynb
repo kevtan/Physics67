{
 "cells": [
  {
   "cell_type": "code",
   "execution_count": null,
   "id": "e3133469",
   "metadata": {},
   "outputs": [],
   "source": [
    "%matplotlib inline\n",
    "import matplotlib.pyplot as plt\n",
    "import numpy as np\n",
    "import scipy.stats as stats\n",
    "import scipy.optimize as optimize\n",
    "import datetime"
   ]
  },
  {
   "cell_type": "markdown",
   "id": "dc92e659",
   "metadata": {},
   "source": [
    "# Project, a deeper dive into the math behind fitting model parameters.\n",
    "\n",
    "Recall that in weeks 5 and 6 we explored fitting model parameters, and in particular, fitting data on the excess counts from Vela using a model with two parameters, a slope and an offset.\n",
    "\n",
    "It this project we are going to explore the math behind the fitting a bit more.  In particular we are going to simplify the model a bit by removing the slope, so that we are only fitting for the offset.   \n",
    "\n",
    "This model is simple enough that we can take the derivatives by hand, and we can solve for the minimum. \n",
    "\n",
    "Some things you might do:\n",
    "\n",
    "Recall that the $\\chi^2$ is given by:\n",
    "\n",
    "$\\chi^2 = \\sum_i (\\frac{n_i - m_i(x)}{\\sigma_i})^2$\n",
    "\n",
    "Where $n_i$ is the number of counts from week $i$ (i.e., 'excess_counts' in the next cell) and $\\sigma_i$ is uncertainty on that number (i.e., 'sigma_counts' in the next cell).\n",
    "\n",
    "And in our case our model is trivial:\n",
    "\n",
    "$m(x) = p_0$, leaving use with\n",
    "\n",
    "$\\chi^2 = \\sum_i (\\frac{n_i - p_0}{\\sigma_i})^2$\n",
    "\n",
    "\n",
    "Some goals for this project could include:\n",
    "\n",
    "1. Take the first and second partial derivativs of the $\\chi^2$ with respect to $p_0$.   If you aren't sure how to take a derivative of an expression inside a sum you can try just writing out the first three terms of the sum and taking the derivatives of those:\n",
    "\n",
    "$\\chi^2 = (\\frac{n_0 - p_0}{\\sigma_i})^2 + (\\frac{n_i - p_0}{\\sigma_i})^2 + (\\frac{n_2 - p_0}{\\sigma_i})^2 + ...$\n",
    "\n",
    "2. Write out your own expression of the first and second derivatives of $\\chi^2$ with respect to $p_0$.  Implement them as functions, plot them and verify your results by comparing them to the functions that we wrote that date the derivatives numerically.\n",
    "\n",
    "3. Then you can explicitly solve for best fit value of $p_0$ by solving for the place where the first derivative is zero.  This will give you an expressing for $p_0$ in terms of the $n_i$ and $\\sigma_i$.\n",
    "\n",
    "4. You can explicitly solve for uncertainty on $p_0$ ($\\sigma_{p0}$) by noting that they correspond to the points where the $\\chi^2$ function changes by 1 with respect to the minimum, and also by noting that the $\\chi^2$ function is a parabola, you can also write as $\\Delta \\chi^2 = a (\\delta p_0)^2$.  (For this step you can either demonstrate that for our case $a = \\frac{1}{2} \\frac{\\partial^2\\chi^2}{\\partial p_0^2}$ or you can just take our word on that.)\n",
    "\n",
    "6. Finally, you can compare the formulas you got for $p_0$ and $\\sigma_{p0}$ to the formulas for taking the weighted average by inverse variance weighting. \n"
   ]
  },
  {
   "cell_type": "code",
   "execution_count": null,
   "id": "55d5efd9",
   "metadata": {},
   "outputs": [],
   "source": [
    "data = np.loadtxt(open(\"../data/Vela_Flux.txt\", 'rb'), usecols=range(7))\n",
    "\n",
    "# This is how we pull out the data from columns in the array.\n",
    "\n",
    "# This is the date in \"Mission Elapsesd Time\"\n",
    "# For the Fermi mission, this is defined to be the number of seconds since the start of 2001.\n",
    "date_MET = data[:,0]\n",
    "# This is the offset in seconds between the Fermi \"MET\" and the UNIX \"epoch\" used by matplotlib\n",
    "MET_To_Unix = 978336000\n",
    "\n",
    "# These are the numbers of photons observed from Vela each week in the \"low\" Energy Band (100 MeV - 800 MeV)\n",
    "nObs_LE = data[:,1]\n",
    "\n",
    "# These are the number of photons expected from Vela each week, under the assumption that it is \n",
    "# not varying at all, and the only differences depend on how long we spent looking at Vela\n",
    "# that particular weeek\n",
    "nExp_LE = data[:,2]\n",
    "\n",
    "# These are the band bounds, in MeV\n",
    "LE_bounds = (100., 800.)\n",
    "\n",
    "# This is the \"significance\" of the variation for each week.  We will discuss this more later\n",
    "signif_LE = data[:,3]\n",
    "\n",
    "# This converts the dates to something that matplotlib understands\n",
    "dates = [datetime.datetime.fromtimestamp(date + MET_To_Unix) for date in date_MET]\n",
    "date_YEAR = 2001 +  (date_MET / (24*3600*365))\n",
    "years_since_mid_2014 = date_YEAR  - 2014.5\n",
    "\n",
    "excess_counts = nObs_LE-nExp_LE\n",
    "sigma_counts =  np.sqrt(nObs_LE)"
   ]
  },
  {
   "cell_type": "markdown",
   "id": "26c5a297",
   "metadata": {},
   "source": [
    "# Defining the model and the cost function\n",
    "\n",
    "This next cell defines the model and the cost function"
   ]
  },
  {
   "cell_type": "code",
   "execution_count": null,
   "id": "055923f6",
   "metadata": {},
   "outputs": [],
   "source": [
    "def constant_function(xvals, params):\n",
    "    return params[0]\n",
    "\n",
    "def residual_function(data_x, data_y, model_function, params):\n",
    "    model_y = model_function(data_x, params)\n",
    "    residual = data_y - model_y\n",
    "    return residual\n",
    "\n",
    "def chi2_function(data_x, data_y, data_sigma_y, model_function, params):\n",
    "    model_y = model_function(data_x, params)\n",
    "    chi2 = ((data_y - model_y)/(data_sigma_y))**2\n",
    "    return np.sum(chi2)\n",
    "\n",
    "def cost_function(params):\n",
    "    return 0.5*chi2_function(years_since_mid_2014, excess_counts, sigma_counts, constant_function, params)\n",
    "\n",
    "def plot_data(dates, excess_counts, sigma_counts, p0, p0err):\n",
    "    _ = plt.errorbar(dates, excess_counts, sigma_counts)\n",
    "    _ = plt.errorbar(dates, np.ones(len(dates))*(p0-p0err), np.ones(len(dates))*(p0+p0err))\n",
    "    _ = plt.xlabel(r'Date [year]')\n",
    "    _ = plt.ylabel(r'Counts')"
   ]
  },
  {
   "cell_type": "markdown",
   "id": "911da631",
   "metadata": {},
   "source": [
    "# Fitting the data for p_0, the offset number of counts\n",
    "\n",
    "This next cell fits the model, prints out the result, and plots both the data and the best fit."
   ]
  },
  {
   "cell_type": "code",
   "execution_count": null,
   "id": "2e541137",
   "metadata": {},
   "outputs": [],
   "source": [
    "result = optimize.minimize(cost_function, x0=[0.])\n",
    "pars = result['x']\n",
    "fmin = result['fun']\n",
    "p0_best = pars[0]\n",
    "cov = result['hess_inv']\n",
    "p0_err = np.sqrt(cov[0,0])\n",
    "\n",
    "print(\"Fitter result:\")\n",
    "print(result)\n",
    "\n",
    "print(\"\")\n",
    "print(\"Human readable version ---------------\")\n",
    "print(\"  p0 best fit value: %.1f +- %.1f counts\" % (p0_best, p0_err))\n",
    "print(\"  Minimum value of cost function: %.1f\" % fmin)\n",
    "print(\"  Minimum value of chi**2: %.1f\" % (2*fmin))\n",
    "\n",
    "plot_data(dates, excess_counts, sigma_counts, p0_best, p0_err)"
   ]
  },
  {
   "cell_type": "markdown",
   "id": "ee3f5dce",
   "metadata": {},
   "source": [
    "# Numerical derivatives and plots of them\n",
    "\n",
    "These functions will compute the derivates of the $\\chi^2$ with respect to $p_0$ and also make plots of them."
   ]
  },
  {
   "cell_type": "code",
   "execution_count": null,
   "id": "eb488c2a",
   "metadata": {},
   "outputs": [],
   "source": [
    "def chi2_scan(cost_func, xvals):\n",
    "    chi2_vals = np.zeros(xvals.shape)\n",
    "    for i, xv in enumerate(xvals):\n",
    "        chi2_vals[i] = 2*cost_func([xv])\n",
    "    return chi2_vals\n",
    "\n",
    "def numerical_deriv(cost_func, xvals):\n",
    "    dx = np.mean(xvals[1:] - xvals[:-1]) / 50.\n",
    "    chi2_0 = chi2_scan(cost_func, xvals)\n",
    "    chi2_1 = chi2_scan(cost_func, xvals + dx)\n",
    "    return (chi2_1 - chi2_0)/dx\n",
    "\n",
    "def numerical_2nd_deriv(cost_func, xvals):\n",
    "    dx = np.mean(xvals[1:] - xvals[:-1]) / 50.\n",
    "    deriv_0 = numerical_deriv(cost_func, xvals)\n",
    "    deriv_1 = numerical_deriv(cost_func, xvals + dx)\n",
    "    return (deriv_1 - deriv_0)/dx\n",
    "\n",
    "def plot_chi2(cost_func, xvals):\n",
    "    yvals = chi2_scan(cost_function, xvals)\n",
    "    _ = plt.plot(xvals, yvals)\n",
    "    _ = plt.xlabel(r'$p_0$ [counts]')\n",
    "    _ = plt.ylabel(r'$\\chi^2$')\n",
    "    \n",
    "def plot_dchi2_dp0(cost_func, xvals):\n",
    "    yvals = numerical_deriv(cost_function, xvals)\n",
    "    _ = plt.plot(xvals, yvals)\n",
    "    _ = plt.xlabel(r'$p_0$ [counts]')\n",
    "    _ = plt.ylabel(r'First Derivative: $\\frac{\\partial\\chi^2}{\\partial p_0}$')\n",
    "    \n",
    "def plot_d2chi2_dp02(cost_func, xvals):\n",
    "    yvals = numerical_2nd_deriv(cost_function, xvals)\n",
    "    _ = plt.plot(xvals, yvals)\n",
    "    _ = plt.xlabel(r'$p_0$ [counts]')\n",
    "    _ = plt.ylabel(r'Second Derivative: $\\frac{\\partial^2\\chi^2}{\\partial p_0^2}$')\n",
    "    _ = plt.ylim(-1, 1)\n",
    "\n",
    "# This is the grid we will use for plotting\n",
    "xvals = np.linspace(-10, 10, 101)"
   ]
  },
  {
   "cell_type": "code",
   "execution_count": null,
   "id": "05aa9837",
   "metadata": {},
   "outputs": [],
   "source": [
    "plot_chi2(cost_function, xvals)"
   ]
  },
  {
   "cell_type": "code",
   "execution_count": null,
   "id": "9abfbc7f",
   "metadata": {},
   "outputs": [],
   "source": [
    "plot_dchi2_dp0(cost_function, xvals)"
   ]
  },
  {
   "cell_type": "code",
   "execution_count": null,
   "id": "1ea24d1e",
   "metadata": {},
   "outputs": [],
   "source": [
    "plot_d2chi2_dp02(cost_function, xvals)"
   ]
  }
 ],
 "metadata": {
  "kernelspec": {
   "display_name": "Python 3",
   "language": "python",
   "name": "python3"
  },
  "language_info": {
   "codemirror_mode": {
    "name": "ipython",
    "version": 3
   },
   "file_extension": ".py",
   "mimetype": "text/x-python",
   "name": "python",
   "nbconvert_exporter": "python",
   "pygments_lexer": "ipython3",
   "version": "3.8.10"
  }
 },
 "nbformat": 4,
 "nbformat_minor": 5
}
