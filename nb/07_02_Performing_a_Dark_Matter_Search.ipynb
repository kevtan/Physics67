{
 "cells": [
  {
   "cell_type": "markdown",
   "id": "a033ba43",
   "metadata": {},
   "source": [
    "# Performing a Dark Matter Search.\n",
    "\n",
    "### Goals\n",
    "\n",
    "1. To perform a search for dark matter using the selection criteria you devised in the previous notebook.\n",
    "2. To understand how to interpret the results of you search, and decide if you should book a ticket to Stockholm or not.\n",
    "\n",
    "### Timing\n",
    "\n",
    "1. Try to finish this notebook in 30-35 minutes.\n"
   ]
  },
  {
   "cell_type": "code",
   "execution_count": 1,
   "id": "98b03fab",
   "metadata": {},
   "outputs": [],
   "source": [
    "%matplotlib inline\n",
    "import matplotlib.pyplot as plt\n",
    "import numpy as np\n",
    "import scipy.stats as scipy\n",
    "import datetime"
   ]
  },
  {
   "cell_type": "markdown",
   "id": "822b19dd",
   "metadata": {},
   "source": [
    "# Let's do a simple search for dark matter\n",
    "\n",
    "\n",
    "In the last notebook, we learned about cuts, signal acceptance, and background rejection while comparing neutron (signal-like) calibration data and $\\beta$ (background-like) calibration data. Now, let's put these together and try to do a simple search for dark matter. \n",
    "\n",
    "We're now going to look at a single file of data, collected from a simulated detector exposure. Now, we don't have any prior knowledge about which events are signal-like and which are background-like - they're all lumped together into one dataset now. <b>And remember: dark matter may or may not be able to scatter on normal nuclei, so it's not a certainty that there are even ANY signal-like events in this dataset!</b> "
   ]
  },
  {
   "cell_type": "markdown",
   "id": "e6f7f431",
   "metadata": {},
   "source": [
    "I'm including here the acceptance and leakage plots from the previous notebook, for you to reference.\n",
    "\n",
    "<img src=\"figures/Leakage.png\" width=\"400\"/>"
   ]
  },
  {
   "cell_type": "code",
   "execution_count": 2,
   "id": "421caabc",
   "metadata": {},
   "outputs": [
    {
     "name": "stdout",
     "output_type": "stream",
     "text": [
      "Number of total events recorded in observing period: 300\n"
     ]
    },
    {
     "data": {
      "image/png": "[encoded data removed]",
      "text/plain": [
       "<Figure size 432x288 with 1 Axes>"
      ]
     },
     "metadata": {
      "needs_background": "light"
     },
     "output_type": "display_data"
    }
   ],
   "source": [
    "#First, load in the data from our DM search\n",
    "DMSearch_data = np.loadtxt(open(\"../data/DMSearch_data.txt\",'r')) #DON'T LOOK IN THIS FILE UNTIL END OF THE NOTEBOOK!\n",
    "\n",
    "#Take the S2 values from the search data and plot in a histogram.\n",
    "data_logS2Bins = np.linspace(1,5,100)\n",
    "data_logS2 = np.log10(DMSearch_data[:])\n",
    "\n",
    "print(f\"Number of total events recorded in observing period: {data_logS2.size}\")\n",
    "\n",
    "#Plot these events \n",
    "plt.hist(data_logS2, bins=data_logS2Bins,fc=(0, 0, 0, 0.3))\n",
    "plt.xlabel(r'Log(S2 size)')\n",
    "plt.ylabel(r'Counts per bin')\n",
    "plt.yscale('log')\n",
    "plt.show()"
   ]
  },
  {
   "cell_type": "markdown",
   "id": "13850406",
   "metadata": {},
   "source": [
    "# Questions for Discussion\n",
    "\n",
    "5.1 What are your first impressions here? If some dark matter events are in this plot, where would they show up? Can you conclude on first sight that we have or have not found dark matter? If yes, how many dark matter events do you think we've seen?\n",
    "\n",
    "Let's now use the cut on Log(S2) (i.e., $X_{c}$) that you chose in the last lab to cut away the events we think are likely to be background. Plug in your cut value into the \"myCutValue_Xc\" variable in the code below.\n",
    "\n",
    "<b>Side note: it is important that you do not change your cut value now that you've seen the dark matter search data. If you do, you will introduce bias into your result.</b> (Disclaimer: you will not be graded on your ability to choose an excellent cut, so please just play along with this anti-bias measure ;) )"
   ]
  },
  {
   "cell_type": "code",
   "execution_count": 3,
   "id": "cacdfba1",
   "metadata": {},
   "outputs": [],
   "source": [
    "#Function we use to help us cut away events with S2s above a certain threshold cutVal\n",
    "def CutEvents(eventList,cutVal):\n",
    "    \n",
    "    # make a mask of all the events passing the cuts\n",
    "    mask = eventList < cutVal\n",
    "    # apply the mask using the [] operation\n",
    "    return eventList[mask]"
   ]
  },
  {
   "cell_type": "markdown",
   "id": "44cfd2d4",
   "metadata": {},
   "source": [
    "Plug in your cut value from the last notebook in the first line here."
   ]
  },
  {
   "cell_type": "code",
   "execution_count": 4,
   "id": "211c43a9",
   "metadata": {},
   "outputs": [
    {
     "data": {
      "image/png": "[encoded data removed]",
      "text/plain": [
       "<Figure size 432x288 with 1 Axes>"
      ]
     },
     "metadata": {
      "needs_background": "light"
     },
     "output_type": "display_data"
    },
    {
     "name": "stdout",
     "output_type": "stream",
     "text": [
      "Number of dark matter search events, prior to cut: {data_logS2.size}\n",
      "Number of dark matter search events remaining after cut: 66\n"
     ]
    }
   ],
   "source": [
    "#Plug in your cut value from last lab here!\n",
    "myCutValue_Xc = 3.5\n",
    "\n",
    "\n",
    "#Loop through elements and remove those above the cut value\n",
    "data_logS2_afterCut = CutEvents(data_logS2,myCutValue_Xc)\n",
    "\n",
    "plt.hist(data_logS2_afterCut, bins=data_logS2Bins,fc=(0, 0, 0, 0.3))\n",
    "plt.xlabel(r'Log(S2 size)')\n",
    "plt.ylabel(r'Counts per bin')\n",
    "plt.yscale('linear')\n",
    "plt.show()\n",
    "\n",
    "print(\"Number of dark matter search events, prior to cut: {data_logS2.size}\")\n",
    "print(f\"Number of dark matter search events remaining after cut: {data_logS2_afterCut.size}\")"
   ]
  },
  {
   "cell_type": "markdown",
   "id": "19ff8618",
   "metadata": {},
   "source": [
    "#### 5.2 When you apply the cut, how many events, $N_{ROI}$, survive? "
   ]
  },
  {
   "cell_type": "markdown",
   "id": "e317a90d",
   "metadata": {},
   "source": [
    "# Complete this section if you have more than zero remaining events\n",
    "\n",
    "Okay, so some events survived your cut. Now let's see how statistically significant your $N_{ROI}$ is. \n",
    "\n",
    "It's fair to assume that the vast majority of all observed events (pre-cut) are background, so let's approximate the total number of background events by the total number of observed events. \n",
    "\n",
    "#### 5.3a What is the average number of background events $N_{ex}$ you expect to leak below your cut value? (This can be a non-integer number.) Hint: you will need to look at the background leakage curve at the top of this notebook, with a knowledge of how many overall events there were.\n",
    "\n",
    "Now, suppose the probability of observing $N$ background events in this window follows a Poisson distribution with a mean of $N_{ex}$. \n",
    "\n",
    "Plug your $N_{ex}$ into the following code, in the first line below."
   ]
  },
  {
   "cell_type": "code",
   "execution_count": 5,
   "id": "dc314da8",
   "metadata": {},
   "outputs": [
    {
     "name": "stdout",
     "output_type": "stream",
     "text": [
      "Probability of getting N_ROI events from just background fluctuations: 4.220659465985886e-09\n"
     ]
    }
   ],
   "source": [
    "#Plug in the expected number of events N_ex\n",
    "N_ex = 30\n",
    "N_ROI = data_logS2_afterCut.size\n",
    "probability_from_background = scipy.poisson.sf(N_ROI,N_ex)\n",
    "print(f\"Probability of getting N_ROI events from just background fluctuations: {probability_from_background}\")"
   ]
  },
  {
   "cell_type": "markdown",
   "id": "acfc2363",
   "metadata": {},
   "source": [
    "#### 5.4a What is the probability that you will see $N_{ROI}$ or more events due to just normal background fluctuations? Can you quote a p-value for observing $N_{ROI}$ under the assumption that only background is present?\n",
    "\n",
    "#### 5.5a In qualitative terms, how confident are you that you discovered dark matter?"
   ]
  },
  {
   "cell_type": "markdown",
   "id": "ff5cec02",
   "metadata": {},
   "source": [
    "# Alternatively, complete this section if you have zero remaining events\n",
    "\n",
    "Okay, so you have zero remaining events. This suggests that you did not observe dark matter with your experiment. However, this does not mean that the results are not meaningful or exciting.\n",
    "\n",
    "#### 5.3b Does the fact that you have zero remaining events after your cut mean that that we're certain dark matter didn't scatter in your detector? Why or why not? Refer the signal acceptance plot in your answer.\n",
    "\n",
    "#### 5.4b How is a null result (one where you don't find dark matter) useful for understanding the properties of dark matter?"
   ]
  },
  {
   "cell_type": "markdown",
   "id": "89da650e",
   "metadata": {},
   "source": [
    "# Was there actually dark matter in the simulated dataset? \n",
    "\n",
    "Once you get to this point, please ask one of the instructors for spoilers! (Of course, none of them actually knows if there REALLY will be dark matter seen in LUX-ZEPLIN, but stay tuned!)"
   ]
  },
  {
   "cell_type": "code",
   "execution_count": null,
   "id": "a5769187",
   "metadata": {},
   "outputs": [],
   "source": []
  }
 ],
 "metadata": {
  "interpreter": {
   "hash": "19e21a1307c1ba4f966a3a294531ccbde9406da868d2acf8c5734a5b9a4b9ccc"
  },
  "kernelspec": {
   "display_name": "Python 3.10.2 ('venv': venv)",
   "language": "python",
   "name": "python3"
  },
  "language_info": {
   "codemirror_mode": {
    "name": "ipython",
    "version": 3
   },
   "file_extension": ".py",
   "mimetype": "text/x-python",
   "name": "python",
   "nbconvert_exporter": "python",
   "pygments_lexer": "ipython3",
   "version": "3.10.2"
  }
 },
 "nbformat": 4,
 "nbformat_minor": 5
}
