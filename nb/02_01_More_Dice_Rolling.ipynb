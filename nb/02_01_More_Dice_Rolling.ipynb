{
 "cells": [
  {
   "cell_type": "markdown",
   "id": "25c60130",
   "metadata": {},
   "source": [
    "# Weighted Averages\n",
    "\n",
    "### Goals:\n",
    "\n",
    "1. To review the concept of weighted averages.\n",
    "2. To understand when it makes sense to use weighted averages. \n",
    "3. To understand how histograms and weighted averages are tools that can be used to summarize large data sets a much smaller set of numbers.\n",
    "\n",
    "### Timing\n",
    "\n",
    "1. Try to finish this notebook in 30-35 minutes\n",
    "\n",
    "### Question and Answer Template\n",
    "\n",
    "You can go to the link below, and do \"file\" -> \"make a copy\" to make yourself a google doc that you can use to fill in the answers to the question in this weeks notebooks.\n",
    "\n",
    "https://docs.google.com/document/d/1ZmV0GQr0SfdIbLfKm5ibpRwBmCR8KGVTmVatiQr8sxI/edit?usp=sharing"
   ]
  },
  {
   "cell_type": "code",
   "execution_count": 27,
   "id": "3b4fe9f4",
   "metadata": {},
   "outputs": [],
   "source": [
    "%matplotlib inline\n",
    "import matplotlib.pyplot as plt\n",
    "import numpy as np"
   ]
  },
  {
   "cell_type": "markdown",
   "id": "cead7b19",
   "metadata": {},
   "source": [
    "###  New functions we will use in this module\n",
    "\n",
    "| Function Name            | What it does |\n",
    "| - | - |\n",
    "|    rng.integers          | generates a random integer |\n",
    "|    rng.uniform           | generates a random real number from a flat or 'uniform' distribution |\n",
    "|    plt.hist              | Makes a \"histogram\" plotting the number of values that fall into a set of bins |\n",
    "|    plt.xlabel            | Set the x-axis label of a figure (also plt.ylabel) |  "
   ]
  },
  {
   "cell_type": "markdown",
   "id": "77b47629",
   "metadata": {},
   "source": [
    "## Weighted averages, in the context you are probably most familiar with them\n",
    "\n",
    "Being students, I'm sure that you are familiar with weighted averages as they apply to course grades.  For example, you might be something like: \"Homework will be 20% of your grade, the two short mid-term exams will be 20% each, and the final exam will be 40%\".\n",
    "\n",
    "### Question:  \n",
    "\n",
    "#### 1.1  Write down the formula for grades that corresponds to the sentence above."
   ]
  },
  {
   "cell_type": "markdown",
   "id": "62a43b90",
   "metadata": {},
   "source": [
    "## Summary data and weighted averages\n",
    "\n",
    "Now we are going to work through an exercise that shows another context in which weighted averages occur.  \n",
    "\n"
   ]
  },
  {
   "cell_type": "code",
   "execution_count": 28,
   "id": "16ad4b35",
   "metadata": {},
   "outputs": [],
   "source": [
    "rng = np.random.default_rng(42)"
   ]
  },
  {
   "cell_type": "code",
   "execution_count": 29,
   "id": "96d1bf2c",
   "metadata": {},
   "outputs": [],
   "source": [
    "def rollD6(rng, nTimes):\n",
    "    return rng.integers(low=1, high=6, endpoint=True, size=nTimes)"
   ]
  },
  {
   "cell_type": "code",
   "execution_count": 30,
   "id": "289580c7",
   "metadata": {},
   "outputs": [],
   "source": [
    "# Roll the dice 60 times.\n",
    "diceRolls = rollD6(rng, 60)\n",
    "\n",
    "# And count the number of times each value occurred\n",
    "values = np.bincount(diceRolls)\n",
    "weights = np.arange(7)"
   ]
  },
  {
   "cell_type": "code",
   "execution_count": 31,
   "id": "02cf4a1c",
   "metadata": {},
   "outputs": [
    {
     "name": "stdout",
     "output_type": "stream",
     "text": [
      "[1 5 4 3 3 6 1 5 2 1 4 6 5 5 5 5 4 1 6 3 4 3 2 6 5 4 3 5 4 3 3 2 1 4 6 1 6\n",
      " 5 2 4 1 5 5 3 1 6 3 6 5 5 5 2 3 3 3 1 4 1 5 5]\n",
      "[ 0 10  5 12  9 16  8] [0 1 2 3 4 5 6]\n"
     ]
    }
   ],
   "source": [
    "print(diceRolls)\n",
    "print(values, weights)"
   ]
  },
  {
   "cell_type": "markdown",
   "id": "69aff607",
   "metadata": {},
   "source": [
    "### Now let's write down the equation for the mean of the data two different ways\n",
    "\n",
    "#### Using the indvidual rolls\n",
    "\n",
    "It would look something like \n",
    "\n",
    "(4 + 4 + 4 + 4 + 6 + 1 + ... + 6 + 3) / 60\n",
    "\n",
    "#### Using the bin counts\n",
    "\n",
    "It would look something like\n",
    "\n",
    "((10 * 1) + (4 * 2) + (9 * 3) + (16 * 4) + (11 * 5) + (10 * 6)) / 60"
   ]
  },
  {
   "cell_type": "markdown",
   "id": "b2d4c779",
   "metadata": {},
   "source": [
    "### Formulas\n",
    "\n",
    "mean = $\\frac{\\sum_i x_i}{n}$\n",
    "\n",
    "weighted mean = $\\frac{\\sum_i w_i * x_i}{\\sum w_i}$"
   ]
  },
  {
   "cell_type": "markdown",
   "id": "9c777df8",
   "metadata": {},
   "source": [
    "#### Let's compute both of those using numpy and compare them to the numpy.mean() function"
   ]
  },
  {
   "cell_type": "code",
   "execution_count": 32,
   "id": "278ba43d",
   "metadata": {},
   "outputs": [],
   "source": [
    "mean_v1 = np.sum(diceRolls) / len(diceRolls)\n",
    "mean_v2 = np.sum(values*weights) / len(diceRolls)\n",
    "mean_check = np.mean(diceRolls)"
   ]
  },
  {
   "cell_type": "code",
   "execution_count": 33,
   "id": "2ecdfb9b",
   "metadata": {},
   "outputs": [
    {
     "name": "stdout",
     "output_type": "stream",
     "text": [
      "V1:     3.6666666666666665\n",
      "V2:     3.6666666666666665\n",
      "Check:  3.6666666666666665\n"
     ]
    }
   ],
   "source": [
    "print(\"V1:    \", mean_v1)\n",
    "print(\"V2:    \", mean_v2)\n",
    "print(\"Check: \", mean_check)"
   ]
  },
  {
   "cell_type": "markdown",
   "id": "d51c7a4a",
   "metadata": {},
   "source": [
    "You can also programatically check that two numbers (arrays) are equal up to computer precision using `np.isclose` (`np.allclose`)"
   ]
  },
  {
   "cell_type": "code",
   "execution_count": 34,
   "id": "da03932c",
   "metadata": {},
   "outputs": [
    {
     "name": "stdout",
     "output_type": "stream",
     "text": [
      "\n",
      "V1 == V2    : True\n",
      "V1 == Check : True\n",
      "V2 == Check : True\n",
      "\n"
     ]
    }
   ],
   "source": [
    "print(f\"\"\"\n",
    "V1 == V2    : {np.isclose(mean_v1, mean_v2)}\n",
    "V1 == Check : {np.isclose(mean_v1, mean_check)}\n",
    "V2 == Check : {np.isclose(mean_v2, mean_check)}\n",
    "\"\"\")"
   ]
  },
  {
   "cell_type": "markdown",
   "id": "f3138e77",
   "metadata": {},
   "source": [
    "#### Pro-tip, array multiplication in numpy:\n",
    "\n",
    "(value*weights) actually multiplies each element in value by each element in weights, \n",
    "it is equivalent to \n",
    "\n",
    "    n = len(values)\n",
    "    outArray = np.zero((n))\n",
    "    for i in range(n):\n",
    "        outArray[i] = values[i] * weights[i]\n",
    "        \n",
    "Or, written mathemetically:\n",
    "\n",
    "$\\bf{v} = \\bf{x}\\bf{w}$ is equivalent to $v_i = x_i * w_i$ for each element $i$, and we use **bold** to indicate arrays.\n",
    "        "
   ]
  },
  {
   "cell_type": "code",
   "execution_count": 35,
   "id": "24275e6a",
   "metadata": {},
   "outputs": [
    {
     "data": {
      "text/plain": [
       "array([ 0, 10, 10, 36, 36, 80, 48])"
      ]
     },
     "execution_count": 35,
     "metadata": {},
     "output_type": "execute_result"
    }
   ],
   "source": [
    "values*weights"
   ]
  },
  {
   "cell_type": "markdown",
   "id": "07a667ac",
   "metadata": {},
   "source": [
    "### When summary data \"loses information\"\n",
    "\n",
    "Now, instead of rolling a dice, lets pick a bunch of real numbers between 0.5 and 6.5 and use a histogram to summarize that information.\n",
    "\n",
    "The \"a.u.\" on the axes labels stands for \"abitrary units\"."
   ]
  },
  {
   "cell_type": "code",
   "execution_count": 36,
   "id": "21eb3f43",
   "metadata": {},
   "outputs": [
    {
     "data": {
      "image/png": "[encoded data removed]",
      "text/plain": [
       "<Figure size 432x288 with 1 Axes>"
      ]
     },
     "metadata": {
      "needs_background": "light"
     },
     "output_type": "display_data"
    }
   ],
   "source": [
    "dataSample = rng.uniform(low=0.5, high=6.5, size=60)\n",
    "hist = plt.hist(dataSample, bins=np.linspace(0.5, 6.5, 7))\n",
    "plt.xlabel(\"Value [a.u.]\")\n",
    "plt.ylabel(\"Trials [a.u.]\")\n",
    "plt.show()"
   ]
  },
  {
   "cell_type": "code",
   "execution_count": 37,
   "id": "4f490571",
   "metadata": {},
   "outputs": [
    {
     "name": "stdout",
     "output_type": "stream",
     "text": [
      "Average bin content:   10.0\n",
      "Average value:         3.2760712798707794\n",
      "Average binned value:  3.2333333333333334\n"
     ]
    }
   ],
   "source": [
    "# This grabs the bin values and bin edges from the hist data structure that matplotlib returned\n",
    "values = hist[0]\n",
    "edges = hist[1]\n",
    "centers = (edges[0:-1] + edges[1:])/2.\n",
    "\n",
    "print(\"Average bin content:  \", np.mean(values))\n",
    "print(\"Average value:        \", np.mean(dataSample))\n",
    "print(\"Average binned value: \", np.sum(values*centers) / len(dataSample))"
   ]
  },
  {
   "cell_type": "markdown",
   "id": "a9a48551",
   "metadata": {},
   "source": [
    "### Questions for discussion\n",
    "\n",
    "#### 2.1 Explain, in your own words, the difference between the three values computed in the previous cell.  \n",
    "\n",
    "#### 2.2 How would these numbers change if you changed the bin size when histograming the data?  E.g., which would get bigger if you used smaller bins, which would get smaller, and which would stay the same?"
   ]
  },
  {
   "cell_type": "code",
   "execution_count": 38,
   "id": "92081ddf",
   "metadata": {},
   "outputs": [
    {
     "data": {
      "image/png": "[encoded data removed]",
      "text/plain": [
       "<Figure size 432x288 with 1 Axes>"
      ]
     },
     "metadata": {
      "needs_background": "light"
     },
     "output_type": "display_data"
    },
    {
     "name": "stdout",
     "output_type": "stream",
     "text": [
      "Average bin content:   0.8695652173913043\n",
      "Average value:         3.2760712798707794\n",
      "Average binned value:  3.276811594202899\n"
     ]
    }
   ],
   "source": [
    "# This is a cell to try out different binnings for summarize the data\n",
    "hist2 = plt.hist(dataSample, bins=np.linspace(0.5, 6.5, 70))\n",
    "plt.xlabel(\"Value [a.u.]\")\n",
    "plt.ylabel(\"Trials [a.u.]\")\n",
    "plt.show()\n",
    "\n",
    "values2 = hist2[0]\n",
    "edges2 = hist2[1]\n",
    "centers2 = (edges2[0:-1] + edges2[1:])/2.\n",
    "\n",
    "print(\"Average bin content:  \", np.mean(values2))\n",
    "print(\"Average value:        \", np.mean(dataSample))\n",
    "print(\"Average binned value: \", np.sum(values2*centers2) / len(dataSample))"
   ]
  },
  {
   "cell_type": "markdown",
   "id": "e4caa7d2",
   "metadata": {},
   "source": [
    "### Questions for discussion\n",
    "\n",
    "#### 3.1 In many cases the data might be presented already summarized, or binned into a histogram.  Can you think of some examples in real-world data when this might be the case?  List a few.\n",
    "\n",
    "#### 3.2 Often, the way we collect data involves some averaging or sampling, so that we are effectively making a histogram as we actually collect the data.  An example of this might be an X-ray detector that counts how many X-rays it detects per second for 6 seconds, then only sends the total number of X-rays it detected each second. (I.e., it sends out 6 numbers).  Explain how this corresponds to the example above.  What does the total number of X-rays seen correspond to from our earlier example?  How about the rate of X-rays?\n"
   ]
  },
  {
   "cell_type": "code",
   "execution_count": null,
   "id": "24776dad",
   "metadata": {},
   "outputs": [],
   "source": []
  }
 ],
 "metadata": {
  "kernelspec": {
   "display_name": "Python 3 (ipykernel)",
   "language": "python",
   "name": "python3"
  },
  "language_info": {
   "codemirror_mode": {
    "name": "ipython",
    "version": 3
   },
   "file_extension": ".py",
   "mimetype": "text/x-python",
   "name": "python",
   "nbconvert_exporter": "python",
   "pygments_lexer": "ipython3",
   "version": "3.10.2"
  }
 },
 "nbformat": 4,
 "nbformat_minor": 5
}
